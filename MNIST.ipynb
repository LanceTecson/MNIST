{
 "cells": [
  {
   "cell_type": "code",
   "execution_count": 1,
   "id": "dd847bd8",
   "metadata": {},
   "outputs": [],
   "source": [
    "import torch\n",
    "import torch.nn as nn\n",
    "from torch.utils.data import Dataset, DataLoader\n",
    "from torch.optim import Adam\n",
    "\n",
    "# Visualization tools\n",
    "import torchvision\n",
    "from torchvision.datasets import MNIST\n",
    "import torchvision.transforms.v2 as transforms\n",
    "import torchvision.transforms.functional as F\n",
    "import matplotlib.pyplot as plt"
   ]
  },
  {
   "cell_type": "code",
   "execution_count": 2,
   "id": "b886c7ae",
   "metadata": {},
   "outputs": [
    {
     "data": {
      "text/plain": [
       "True"
      ]
     },
     "execution_count": 2,
     "metadata": {},
     "output_type": "execute_result"
    }
   ],
   "source": [
    "device = torch.device(\"cuda\" if torch.cuda.is_available() else \"cpu\")\n",
    "torch.cuda.is_available()"
   ]
  },
  {
   "cell_type": "code",
   "execution_count": 3,
   "id": "2db88e83",
   "metadata": {},
   "outputs": [],
   "source": [
    "train_set = torchvision.datasets.MNIST(\"./data/\", train=True, download=True)\n",
    "valid_set = torchvision.datasets.MNIST(\"./data/\", train=False, download=True)"
   ]
  },
  {
   "cell_type": "code",
   "execution_count": 21,
   "id": "de8576bc",
   "metadata": {},
   "outputs": [],
   "source": [
    "# extract first image then transfrom into tensor\n",
    "x_0, y_0 = train_set[0]\n",
    "to3tensor = transforms.Compose([transforms.ToImage(), transforms.ToDtype(torch.float32, scale=True)])  # PIL -> C H W\n",
    "x_0_tensor = to3tensor(x_0)"
   ]
  },
  {
   "cell_type": "code",
   "execution_count": null,
   "id": "3ed07071",
   "metadata": {},
   "outputs": [],
   "source": [
    "\n",
    "x_0_gpu = x_0_tensor.cuda()\n",
    "# Compute tensor with GPU (if device is GPU)\n",
    "x_0_tensor.to(device).device"
   ]
  },
  {
   "cell_type": "code",
   "execution_count": 6,
   "id": "26b3d7ec",
   "metadata": {},
   "outputs": [
    {
     "data": {
      "text/plain": [
       "<matplotlib.image.AxesImage at 0x179057a15e0>"
      ]
     },
     "execution_count": 6,
     "metadata": {},
     "output_type": "execute_result"
    },
    {
     "data": {
      "image/png": "[encoded data removed]",
      "text/plain": [
       "<Figure size 640x480 with 1 Axes>"
      ]
     },
     "metadata": {},
     "output_type": "display_data"
    }
   ],
   "source": [
    "# convert tensor to PIL image\n",
    "image = F.to_pil_image(x_0_tensor)\n",
    "plt.imshow(image, cmap='gray')"
   ]
  },
  {
   "cell_type": "code",
   "execution_count": 7,
   "id": "9daa9f0c",
   "metadata": {},
   "outputs": [],
   "source": [
    "# transform entire dataset\n",
    "train_set.transform = to3tensor\n",
    "valid_set.transform = to3tensor"
   ]
  },
  {
   "cell_type": "code",
   "execution_count": 8,
   "id": "4c92cf7f",
   "metadata": {},
   "outputs": [],
   "source": [
    "batch_size = 32\n",
    "\n",
    "# DataLoader defines how images are batched and shuffled for training\n",
    "train_loader = DataLoader(train_set, batch_size=batch_size, shuffle=True)\n",
    "valid_loader = DataLoader(valid_set, batch_size=batch_size)"
   ]
  },
  {
   "cell_type": "code",
   "execution_count": 23,
   "id": "86205aeb",
   "metadata": {},
   "outputs": [],
   "source": [
    "layer_size = 512\n",
    "layers = [\n",
    "    nn.Flatten(),  # flatten the input tensor to a 1D vector\n",
    "    nn.Linear(x_0_tensor.numel(), layer_size),  # input layer to hidden layer Linear(input size, output neurons)\n",
    "    nn.ReLU(),  # activation function\n",
    "    nn.Linear(layer_size, layer_size),  # hidden layer to hidden layer\n",
    "    nn.ReLU(),  # activation function\n",
    "    nn.Linear(layer_size, 10),  # hidden layer to output layer (10 classes for MNIST)\n",
    "]"
   ]
  },
  {
   "cell_type": "code",
   "execution_count": 10,
   "id": "e1b2df6b",
   "metadata": {},
   "outputs": [
    {
     "data": {
      "text/plain": [
       "Sequential(\n",
       "  (0): Flatten(start_dim=1, end_dim=-1)\n",
       "  (1): Linear(in_features=784, out_features=512, bias=True)\n",
       "  (2): ReLU()\n",
       "  (3): Linear(in_features=512, out_features=512, bias=True)\n",
       "  (4): ReLU()\n",
       "  (5): Linear(in_features=512, out_features=10, bias=True)\n",
       ")"
      ]
     },
     "execution_count": 10,
     "metadata": {},
     "output_type": "execute_result"
    }
   ],
   "source": [
    "model = nn.Sequential(*layers)  # create a sequential model with the defined layers\n",
    "model.to(device)"
   ]
  },
  {
   "cell_type": "code",
   "execution_count": 11,
   "id": "ac66e338",
   "metadata": {},
   "outputs": [
    {
     "data": {
      "text/plain": [
       "Sequential(\n",
       "  (0): Flatten(start_dim=1, end_dim=-1)\n",
       "  (1): Linear(in_features=784, out_features=512, bias=True)\n",
       "  (2): ReLU()\n",
       "  (3): Linear(in_features=512, out_features=512, bias=True)\n",
       "  (4): ReLU()\n",
       "  (5): Linear(in_features=512, out_features=10, bias=True)\n",
       ")"
      ]
     },
     "execution_count": 11,
     "metadata": {},
     "output_type": "execute_result"
    }
   ],
   "source": [
    "\n",
    "# Compile with torch for performance optimization\n",
    "model.eval()"
   ]
  },
  {
   "cell_type": "code",
   "execution_count": 12,
   "id": "f462f3ef",
   "metadata": {},
   "outputs": [],
   "source": [
    "\n",
    "# loss function for classification in a group of classes\n",
    "loss_function = nn.CrossEntropyLoss()\n",
    "\n",
    "# optimizer for updating model weights\n",
    "# Adam optimizer is a popular choice for training deep learning models\n",
    "optimizer = Adam(model.parameters())"
   ]
  },
  {
   "cell_type": "code",
   "execution_count": 13,
   "id": "6dd0e569",
   "metadata": {},
   "outputs": [],
   "source": [
    "# Number of training and validation samples\n",
    "train_N = len(train_loader.dataset)\n",
    "valid_N = len(valid_loader.dataset)"
   ]
  },
  {
   "cell_type": "code",
   "execution_count": 14,
   "id": "02e0a13a",
   "metadata": {},
   "outputs": [],
   "source": [
    "# Function to calculate accuracy for a batch\n",
    "def get_batch_accuracy(output, y, N):\n",
    "    pred = output.argmax(dim=1, keepdim=True)\n",
    "    correct = pred.eq(y.view_as(pred)).sum().item()\n",
    "    return correct / N"
   ]
  },
  {
   "cell_type": "code",
   "execution_count": 15,
   "id": "0186b65c",
   "metadata": {},
   "outputs": [],
   "source": [
    "\n",
    "# Function to train the model\n",
    "def train():\n",
    "    loss = 0\n",
    "    accuracy = 0\n",
    "\n",
    "    model.train()\n",
    "    for x, y in train_loader:\n",
    "        x, y = x.to(device), y.to(device)\n",
    "        output = model(x)\n",
    "        optimizer.zero_grad()\n",
    "        batch_loss = loss_function(output, y)\n",
    "        batch_loss.backward()\n",
    "        optimizer.step()\n",
    "\n",
    "        loss += batch_loss.item()\n",
    "        accuracy += get_batch_accuracy(output, y, train_N)\n",
    "    print('Train - Loss: {:.4f} Accuracy: {:.4f}'.format(loss, accuracy))\n",
    "\n"
   ]
  },
  {
   "cell_type": "code",
   "execution_count": 16,
   "id": "102ea687",
   "metadata": {},
   "outputs": [],
   "source": [
    "# Function to validate the model \n",
    "def validate():\n",
    "    loss = 0\n",
    "    accuracy = 0\n",
    "\n",
    "    model.eval()\n",
    "    with torch.no_grad():\n",
    "        for x, y in valid_loader:\n",
    "            x, y = x.to(device), y.to(device)\n",
    "            output = model(x)\n",
    "\n",
    "            loss += loss_function(output, y).item()\n",
    "            accuracy += get_batch_accuracy(output, y, valid_N)\n",
    "    print('Valid - Loss: {:.4f} Accuracy: {:.4f}'.format(loss, accuracy))"
   ]
  },
  {
   "cell_type": "code",
   "execution_count": 17,
   "id": "199f26ef",
   "metadata": {},
   "outputs": [
    {
     "name": "stdout",
     "output_type": "stream",
     "text": [
      "Epoch: 0\n",
      "Train - Loss: 380.6356 Accuracy: 0.9381\n",
      "Valid - Loss: 35.1291 Accuracy: 0.9655\n",
      "Epoch: 1\n",
      "Train - Loss: 160.3418 Accuracy: 0.9737\n",
      "Valid - Loss: 27.0526 Accuracy: 0.9741\n",
      "Epoch: 2\n",
      "Train - Loss: 110.0874 Accuracy: 0.9816\n",
      "Valid - Loss: 26.1327 Accuracy: 0.9745\n",
      "Epoch: 3\n",
      "Train - Loss: 80.7660 Accuracy: 0.9863\n",
      "Valid - Loss: 24.2706 Accuracy: 0.9774\n",
      "Epoch: 4\n",
      "Train - Loss: 64.1695 Accuracy: 0.9889\n",
      "Valid - Loss: 24.2850 Accuracy: 0.9797\n"
     ]
    }
   ],
   "source": [
    "epochs = 5\n",
    "\n",
    "for epoch in range(epochs):\n",
    "    print('Epoch: {}'.format(epoch))\n",
    "    train()\n",
    "    validate()"
   ]
  },
  {
   "cell_type": "code",
   "execution_count": 19,
   "id": "393eca74",
   "metadata": {},
   "outputs": [
    {
     "data": {
      "text/plain": [
       "tensor([[-29.1475,  -7.6220, -14.7679,  13.2505, -24.7927,  16.3872, -29.4608,\n",
       "         -18.2246, -16.3493,  -7.0028]], device='cuda:0',\n",
       "       grad_fn=<AddmmBackward0>)"
      ]
     },
     "execution_count": 19,
     "metadata": {},
     "output_type": "execute_result"
    }
   ],
   "source": [
    "prediction = model(x_0_gpu)\n",
    "prediction"
   ]
  },
  {
   "cell_type": "code",
   "execution_count": 20,
   "id": "5f0d45bf",
   "metadata": {},
   "outputs": [
    {
     "data": {
      "text/plain": [
       "5"
      ]
     },
     "execution_count": 20,
     "metadata": {},
     "output_type": "execute_result"
    }
   ],
   "source": [
    "\n",
    "\n",
    "prediction.argmax(dim=1, keepdim=True)\n",
    "y_0"
   ]
  }
 ],
 "metadata": {
  "kernelspec": {
   "display_name": ".venv",
   "language": "python",
   "name": "python3"
  },
  "language_info": {
   "codemirror_mode": {
    "name": "ipython",
    "version": 3
   },
   "file_extension": ".py",
   "mimetype": "text/x-python",
   "name": "python",
   "nbconvert_exporter": "python",
   "pygments_lexer": "ipython3",
   "version": "3.12.6"
  }
 },
 "nbformat": 4,
 "nbformat_minor": 5
}
